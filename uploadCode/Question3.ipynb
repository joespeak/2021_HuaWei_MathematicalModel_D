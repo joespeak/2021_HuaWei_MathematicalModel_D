{
 "cells": [
  {
   "cell_type": "code",
   "execution_count": null,
   "id": "90a0eb5d",
   "metadata": {},
   "outputs": [],
   "source": [
    "import pandas as pd\n",
    "import numpy as np\n",
    "import sklearn\n",
    "import lightgbm as lgb\n",
    "import xgboost as xgb\n",
    "from catboost import CatBoostClassifier\n",
    "\n",
    "from sklearn.model_selection import KFold\n",
    "from sklearn.metrics import f1_score, roc_auc_score,mean_squared_error,accuracy_score,auc,roc_auc_score\n",
    "from sklearn.linear_model import LogisticRegression\n",
    "from mlxtend.classifier import StackingClassifier\n",
    "from sklearn import svm\n",
    "from sklearn import model_selection\n",
    "from sklearn.preprocessing import MinMaxScaler\n",
    "from sklearn.ensemble import RandomForestClassifier\n",
    "\n",
    "from sklearn.metrics import precision_score\n",
    "from sklearn.metrics import recall_score\n",
    "from xgboost.sklearn import XGBClassifier\n",
    "from sklearn.metrics import f1_score\n",
    "\n",
    "import warnings\n",
    "warnings.filterwarnings('ignore')"
   ]
  },
  {
   "cell_type": "code",
   "execution_count": null,
   "id": "e2122dbe",
   "metadata": {},
   "outputs": [],
   "source": [
    "train_label_df = pd.read_excel(\"../data/ADMET.xlsx\",sheet_name=\"training\")\n",
    "test_label_df = pd.read_excel(\"../data/ADMET.xlsx\",sheet_name=\"test\")\n",
    "train_data_df = pd.read_excel(\"../data/Molecular_Descriptor.xlsx\", sheet_name = \"training\")\n",
    "test_data_df = pd.read_excel(\"../data/Molecular_Descriptor.xlsx\", sheet_name = \"test\")"
   ]
  },
  {
   "cell_type": "code",
   "execution_count": null,
   "id": "91cee885",
   "metadata": {},
   "outputs": [],
   "source": [
    "pd.set_option(\"display.max_rows\", None)      # 显示所有行\n",
    "pd.set_option(\"display.float_format\",lambda x: \"%.2f\" % x) #为了直观的显示数字，不采用科学计数法"
   ]
  },
  {
   "cell_type": "code",
   "execution_count": null,
   "id": "00363a22",
   "metadata": {},
   "outputs": [],
   "source": [
    "#找出train全部为0的列（特征）--无意义\n",
    "df1=train_data_df.loc[:, (train_data_df == 0).all(axis=0)]\n",
    "zero_features = list(df1.columns)\n",
    "print(f\"全部为0的列有{len(zero_features)}列\")\n",
    "#排除train中全部为0的列\n",
    "exclude_col = ['SMILES'] + zero_features"
   ]
  },
  {
   "cell_type": "code",
   "execution_count": null,
   "id": "8f14b1cc",
   "metadata": {},
   "outputs": [],
   "source": [
    "## 训练数据及测试数据准备\n",
    "all_cols = [f for f in train_data_df.columns if f not in exclude_col]\n",
    "x_train = train_data_df[all_cols]\n",
    "x_test = test_data_df[all_cols]"
   ]
  },
  {
   "cell_type": "code",
   "execution_count": null,
   "id": "7ba52d4c",
   "metadata": {},
   "outputs": [],
   "source": [
    "#为了计算相似度，先做归一化，统一量纲\n",
    "def kkk(x,col):\n",
    "    return (x - min(x_train[col])) / (max(x_train[col]) - min(x_train[col]))\n",
    "#x_train.apply(lambda x: kkk(x))\n",
    "for col in x_train.columns:\n",
    "    x_train[col] = x_train[col].apply(lambda x: kkk(x, col))\n",
    "x_train"
   ]
  },
  {
   "cell_type": "code",
   "execution_count": null,
   "id": "f2c8ee02",
   "metadata": {},
   "outputs": [],
   "source": [
    "def jjj(x,col):\n",
    "    return (x - min(x_test[col])) / (max(x_test[col]) - min(x_test[col]) +1e-6)\n",
    "for col in x_test.columns:\n",
    "    x_test[col] = x_test[col].apply(lambda x: jjj(x, col))\n",
    "x_test"
   ]
  },
  {
   "cell_type": "code",
   "execution_count": null,
   "id": "a0e6bcf0",
   "metadata": {},
   "outputs": [],
   "source": [
    "#计算余弦距离:\n",
    "def caculateCos(vec1,vec2):\n",
    "    return (np.dot(vec1,vec2)/(np.linalg.norm(vec1)*np.linalg.norm(vec2)))"
   ]
  },
  {
   "cell_type": "code",
   "execution_count": null,
   "id": "b76b9f33",
   "metadata": {},
   "outputs": [],
   "source": [
    "#提出的KN选择验证集算法\n",
    "all_index = []\n",
    "top_k = 5\n",
    "for i in range(len(x_test)):\n",
    "    cosdis = []\n",
    "    for j in range(len(x_train)):\n",
    "    \n",
    "        dis = caculateCos(x_test.iloc[i].values,x_train.iloc[j].values)\n",
    "        cosdis.append(dis)\n",
    "    cosdis = np.array(cosdis)\n",
    "    index = np.argmax(cosdis)\n",
    "    top_k_idx=cosdis.argsort()[::-1][0:top_k]\n",
    "    #print(top_k_idx)\n",
    "    all_index += list(top_k_idx)\n",
    "    #simdata = x_train.iloc[index]\n",
    "#print(simdata)\n",
    "\n",
    "out_index = set(all_index)\n",
    "print(len(out_index))\n",
    "print(out_index)"
   ]
  },
  {
   "cell_type": "code",
   "execution_count": null,
   "id": "f159aa9c",
   "metadata": {},
   "outputs": [],
   "source": [
    "out_index = list(out_index)\n",
    "train_idx = [x for x in range(len(x_train)) if x not in out_index]\n",
    "len(train_idx)"
   ]
  },
  {
   "cell_type": "code",
   "execution_count": null,
   "id": "332430bf",
   "metadata": {},
   "outputs": [],
   "source": [
    "train_data = x_train.iloc[train_idx]\n",
    "val_data = x_train.iloc[out_index]\n",
    "val_data"
   ]
  },
  {
   "cell_type": "code",
   "execution_count": null,
   "id": "07c06674",
   "metadata": {},
   "outputs": [],
   "source": [
    "y_A = train_label_df[\"Caco-2\"]\n",
    "y_D = train_label_df[\"CYP3A4\"]\n",
    "y_M = train_label_df[\"hERG\"]\n",
    "y_E = train_label_df[\"HOB\"]\n",
    "y_T = train_label_df[\"MN\"]"
   ]
  },
  {
   "cell_type": "code",
   "execution_count": null,
   "id": "3b936bed",
   "metadata": {},
   "outputs": [],
   "source": [
    "val_y_A = y_A.iloc[out_index]\n",
    "train_y_A = y_A.iloc[train_idx]\n",
    "\n",
    "val_y_D = y_D.iloc[out_index]\n",
    "train_y_D = y_D.iloc[train_idx]\n",
    "\n",
    "val_y_M = y_M.iloc[out_index]\n",
    "train_y_M = y_M.iloc[train_idx]\n",
    "\n",
    "val_y_E = y_E.iloc[out_index]\n",
    "train_y_E = y_E.iloc[train_idx]\n",
    "\n",
    "val_y_E = y_E.iloc[out_index]\n",
    "train_y_E = y_E.iloc[train_idx]"
   ]
  },
  {
   "cell_type": "code",
   "execution_count": null,
   "id": "86b6a235",
   "metadata": {},
   "outputs": [],
   "source": [
    "def generateClsOut(model,train_y, val_y):\n",
    "    \n",
    "    model.fit(train_data, train_y)\n",
    "    val_pred = model.predict(val_data)\n",
    "    test_pred = model.predict(x_test)\n",
    "    val_score = model.predict_proba(val_data)\n",
    "    acc = accuracy_score(val_y, val_pred)\n",
    "    recall = recall_score(val_y, val_pred)\n",
    "    f1 = f1_score(val_y, val_pred)\n",
    "    precision = precision_score(val_y, val_pred)\n",
    "    spec = calculate_Spec(val_y,val_pred)\n",
    "    print(f\"acc:{acc},recall:{recall},F1:{f1},Precision:{precision}SPec{spec}\")\n",
    "    return test_pred, val_score"
   ]
  },
  {
   "cell_type": "code",
   "execution_count": null,
   "id": "179bc900",
   "metadata": {},
   "outputs": [],
   "source": [
    "#计算Specity的函数\n",
    "def get_basic_metrics(labels_true, labels_pred, class_names=[0,1]):\n",
    "    cm = sklearn.metrics.confusion_matrix(labels_true, labels_pred, labels=range(len(class_names)))\n",
    "    cm = cm.astype(np.float32)\n",
    "    FP = cm.sum(axis=0) - np.diag(cm)\n",
    "    FN = cm.sum(axis=1) - np.diag(cm)\n",
    "    TP = np.diag(cm)\n",
    "    TN = cm.sum() - (FP + FN + TP)\n",
    "    return FP, TP, FN, TN\n",
    "\n",
    "def calculate_Spec(labels_true, labels_pred):\n",
    "    FP, TP, FN, TN = get_basic_metrics(labels_true, labels_pred)\n",
    "    spec = (TN / (TN + FP))\n",
    "    print(spec)"
   ]
  },
  {
   "cell_type": "code",
   "execution_count": null,
   "id": "403726f4",
   "metadata": {},
   "outputs": [],
   "source": [
    "model_A = XGBClassifier()\n",
    "pred_A,score_A = generateClsOut(model_A,train_y_A, val_y_A)"
   ]
  },
  {
   "cell_type": "code",
   "execution_count": null,
   "id": "cee22a48",
   "metadata": {},
   "outputs": [],
   "source": [
    "model_A = XGBClassifier()\n",
    "pred_A,score_A = generateClsOut(model_A,train_y, val_y)"
   ]
  },
  {
   "cell_type": "code",
   "execution_count": null,
   "id": "f5516cee",
   "metadata": {},
   "outputs": [],
   "source": [
    "model_M = XGBClassifier()\n",
    "pred_M,score_M = generateClsOut(model_M,train_y_M, val_y_M)"
   ]
  },
  {
   "cell_type": "code",
   "execution_count": null,
   "id": "8570464e",
   "metadata": {},
   "outputs": [],
   "source": [
    "model_E = lgb.LGBMClassifier()\n",
    "pred_E, score_E = generateClsOut(model_E,train_y_E, val_y_E)"
   ]
  },
  {
   "cell_type": "code",
   "execution_count": null,
   "id": "ea6415b1",
   "metadata": {},
   "outputs": [],
   "source": [
    "model_T = lgb.LGBMClassifier()\n",
    "pred_T,score_T = generateClsOut(model_T,train_y_T, val_y_T)"
   ]
  },
  {
   "cell_type": "code",
   "execution_count": null,
   "id": "ad391320",
   "metadata": {},
   "outputs": [],
   "source": [
    "test_label_df[\"Caco-2\"] = pred_A\n",
    "test_label_df[\"CYP3A4\"] = pred_D\n",
    "test_label_df[\"hERG\"] = pred_M\n",
    "test_label_df[\"HOB\"] = pred_E\n",
    "test_label_df[\"MN\"] = pred_T"
   ]
  },
  {
   "cell_type": "code",
   "execution_count": null,
   "id": "3800cbbe",
   "metadata": {},
   "outputs": [],
   "source": [
    "test_label_df"
   ]
  },
  {
   "cell_type": "code",
   "execution_count": null,
   "id": "313568c6",
   "metadata": {},
   "outputs": [],
   "source": [
    "fpr, tpr, threshold = roc_curve(val_y_A.values.reshape(-1,1), score_A[:,1])"
   ]
  },
  {
   "cell_type": "code",
   "execution_count": null,
   "id": "a6200083",
   "metadata": {},
   "outputs": [],
   "source": [
    "#绘制ROC曲线\n",
    "roc_auc = auc(fpr, tpr)\n",
    "\n",
    "lw = 2\n",
    "plt.figure(figsize=(6 * 1.2, 6))\n",
    "plt.plot(fpr, tpr, color='orange',\n",
    "         lw=lw, label='AUC = %0.2f' % roc_auc)  # 假正率为横坐标，真正率为纵坐标做曲线\n",
    "plt.plot([0, 1], [0, 1], color='navy', lw=lw, linestyle='--')\n",
    "plt.xlim([0.0, 1.0])\n",
    "plt.ylim([0.0, 1.05])\n",
    "plt.xlabel('False Positive Rate')\n",
    "plt.ylabel('True Positive Rate')\n",
    "plt.title('Caco-2(A) ROC plot')\n",
    "plt.legend(loc=\"lower right\")\n",
    "\n",
    "plt.savefig(r'A_ROC_plot.png')\n",
    "print(roc_auc)\n",
    "print('ROC plot has finished!')"
   ]
  }
 ],
 "metadata": {
  "kernelspec": {
   "display_name": "MDandNLP",
   "language": "python",
   "name": "mdandnlp"
  },
  "language_info": {
   "codemirror_mode": {
    "name": "ipython",
    "version": 3
   },
   "file_extension": ".py",
   "mimetype": "text/x-python",
   "name": "python",
   "nbconvert_exporter": "python",
   "pygments_lexer": "ipython3",
   "version": "3.8.0"
  }
 },
 "nbformat": 4,
 "nbformat_minor": 5
}
