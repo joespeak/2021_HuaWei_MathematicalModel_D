{
 "cells": [
  {
   "cell_type": "code",
   "execution_count": null,
   "id": "583e72a4",
   "metadata": {},
   "outputs": [],
   "source": [
    "import pandas as pd\n",
    "import numpy as np\n",
    "import sklearn\n",
    "import lightgbm as lgb\n",
    "import xgboost as xgb\n",
    "\n",
    "from sklearn.model_selection import KFold\n",
    "from sklearn.metrics import f1_score, roc_auc_score,mean_squared_error\n",
    "\n",
    "import warnings\n",
    "warnings.filterwarnings('ignore')"
   ]
  },
  {
   "cell_type": "code",
   "execution_count": null,
   "id": "9a5e514f",
   "metadata": {},
   "outputs": [],
   "source": [
    "train_label_df = pd.read_excel(\"../data/ERα_activity.xlsx\",sheet_name=\"training\")\n",
    "test_label_df = pd.read_excel(\"../data/ERα_activity.xlsx\",sheet_name=\"test\")\n",
    "train_data_df = pd.read_excel(\"../data/Molecular_Descriptor.xlsx\", sheet_name = \"training\")\n",
    "test_data_df = pd.read_excel(\"../data/Molecular_Descriptor.xlsx\", sheet_name = \"test\")"
   ]
  },
  {
   "cell_type": "code",
   "execution_count": null,
   "id": "9fafa96c",
   "metadata": {},
   "outputs": [],
   "source": [
    "pd.set_option(\"display.max_rows\", None)      # 显示所有行\n",
    "pd.set_option(\"display.float_format\",lambda x: \"%.2f\" % x) #为了直观的显示数字，不采用科学计数法"
   ]
  },
  {
   "cell_type": "code",
   "execution_count": null,
   "id": "bc9aa16a",
   "metadata": {},
   "outputs": [],
   "source": [
    "train = pd.merge(train_data_df, train_label_df, on=\"SMILES\", how=\"outer\")\n",
    "#去除离群点\n",
    "train = train[train.IC50_nM<60000]\n",
    "train = train.reset_index().drop([\"index\"], axis=1)"
   ]
  },
  {
   "cell_type": "code",
   "execution_count": null,
   "id": "fb5735e4",
   "metadata": {},
   "outputs": [],
   "source": [
    "test = pd.merge(test_data_df, test_label_df, on=\"SMILES\", how=\"outer\")\n",
    "test = test[train.IC50_nM<60000].reset_index().drop([\"index\"], axis=1)"
   ]
  },
  {
   "cell_type": "code",
   "execution_count": null,
   "id": "38f0017a",
   "metadata": {},
   "outputs": [],
   "source": [
    "#找出train全部为0的列（特征）--无意义\n",
    "df1=train.loc[:, (train == 0).all(axis=0)]\n",
    "zero_features = list(df1.columns)\n",
    "print(f\"全部为0的列有{len(zero_features)}列\")\n",
    "#排除train中全部为0的列\n",
    "exclude_col = ['SMILES','IC50_nM','pIC50']+zero_features\n",
    "#exclude_col"
   ]
  },
  {
   "cell_type": "code",
   "execution_count": null,
   "id": "5dcf3767",
   "metadata": {},
   "outputs": [],
   "source": [
    "## 训练数据及测试数据准备\n",
    "all_cols = [f for f in train.columns if f not in exclude_col]\n",
    "x_train = train[all_cols]\n",
    "x_test = test[all_cols]\n",
    "y_IC_train = train['IC50_nM']\n",
    "y_PIC_train = train[\"pIC50\"]"
   ]
  },
  {
   "cell_type": "code",
   "execution_count": null,
   "id": "e83c799b",
   "metadata": {},
   "outputs": [],
   "source": [
    "import eli5\n",
    "import numpy as np\n",
    "import pandas as pd\n",
    "from sklearn.model_selection import train_test_split\n",
    "\n",
    "#选择lgb的模型特征\n",
    "train_X, val_X, train_y, val_y = train_test_split(x_train, y_PIC_train, test_size=0.1,random_state=1)\n",
    "print(f\"训练集数{len(train_X)},测试集数{len(val_X)}\")\n",
    "\n",
    "model_2 = lgb.LGBMRegressor(objective='rmse',random_state=1024).fit(train_X, train_y)\n",
    "perm = PermutationImportance(model_2, random_state = 1).fit(val_X,val_y) # 实例化\n",
    "eli5.show_weights(perm,feature_names = val_X.columns.tolist(),top=20)"
   ]
  },
  {
   "cell_type": "code",
   "execution_count": null,
   "id": "437f60cf",
   "metadata": {},
   "outputs": [],
   "source": [
    "choose_features = [\"maxHsOH\",\"MDEC-23\",\"LipoaffinityIndex\",\"MLFER_A\",\"C1SP2\",\"BCUTc-1l\",\"C3SP2\",\n",
    "                  \"minsssN\",\"XLogP\",\"VPC-6\",\"maxsF\",\"nHBAcc\",\"MDEC-33\",\"BCUTp-1l\",\"maxssO\",\"SdssC\",\"SHBint10\",\"nC\",\"TopoPSA\",\"BCUTc-1h\"]\n",
    "print(len(choose_features))"
   ]
  },
  {
   "cell_type": "code",
   "execution_count": null,
   "id": "ce6b75fb",
   "metadata": {},
   "outputs": [],
   "source": [
    "lgb_x_train = x_train[choose_features]\n",
    "lgb_x_test = x_test[choose_features]"
   ]
  },
  {
   "cell_type": "code",
   "execution_count": null,
   "id": "8342ff38",
   "metadata": {},
   "outputs": [],
   "source": [
    "#LightGBM模型train&test(for PIC50)\n",
    "def cv_model(train_x, train_y, test_x, clf_name='lgb'):\n",
    "    folds = 40\n",
    "    seed = 2021\n",
    "    kf = KFold(n_splits=folds, shuffle=True, random_state=seed)\n",
    "\n",
    "    train = np.zeros(train_x.shape[0])\n",
    "    test = np.zeros(test_x.shape[0])\n",
    "\n",
    "    cv_scores = []\n",
    "\n",
    "    for i, (train_index, valid_index) in enumerate(kf.split(train_x, train_y)):\n",
    "        print('************************************ {} ************************************'.format(str(i+1)))\n",
    "        trn_x, trn_y, val_x, val_y = train_x.iloc[train_index], train_y[train_index], train_x.iloc[valid_index], train_y[valid_index]\n",
    "\n",
    "        train_matrix = lgb.Dataset(trn_x, label=trn_y)\n",
    "        valid_matrix = lgb.Dataset(val_x, label=val_y)\n",
    "        \n",
    "\n",
    "        params = {\n",
    "            'boosting_type': 'gbdt',\n",
    "            'objective': 'regression',\n",
    "            'metric': \"rmse\",\n",
    "            'min_child_weight': 0.2,\n",
    "            'num_leaves': 20,\n",
    "            'lambda_l2': 1,\n",
    "            \"max_depth\":50,\n",
    "            \"max_bin\":255,\n",
    "            'feature_fraction': 0.8,\n",
    "            'bagging_fraction': 0.9,\n",
    "            'bagging_freq': 4,\n",
    "            'learning_rate': 0.1,\n",
    "            'seed': 2021,\n",
    "            'nthread': 28,\n",
    "            'n_jobs':-1,\n",
    "            'verbose': -1,\n",
    "        }\n",
    "\n",
    "        model = lgb.train(params, \n",
    "                          train_matrix, \n",
    "                          10000, \n",
    "                          valid_sets=[train_matrix, valid_matrix], \n",
    "                          verbose_eval=100,\n",
    "                          early_stopping_rounds=500)\n",
    "        \n",
    "        val_pred = model.predict(val_x, num_iteration=model.best_iteration)\n",
    "        test_pred = model.predict(test_x, num_iteration=model.best_iteration)\n",
    "\n",
    "        train[valid_index] = val_pred\n",
    "        test += test_pred / kf.n_splits\n",
    "        cv_scores.append(np.sqrt(mean_squared_error(val_y, val_pred)))\n",
    "        \n",
    "        print(cv_scores)\n",
    "       \n",
    "    print(\"%s_scotrainre_list:\" % clf_name, cv_scores)\n",
    "    print(\"%s_score_mean:\" % clf_name, np.mean(cv_scores))\n",
    "    print(\"%s_score_std:\" % clf_name, np.std(cv_scores))\n",
    "    return train, test\n",
    "\n",
    "lgb_train, lgb_test = cv_model(lgb_x_train, y_PIC_train, lgb_x_test)"
   ]
  },
  {
   "cell_type": "code",
   "execution_count": null,
   "id": "b721cef7",
   "metadata": {},
   "outputs": [],
   "source": [
    "import matplotlib.pyplot as plt\n",
    "f, ax = plt.subplots(1)\n",
    "f.set_figheight(6)\n",
    "f.set_figwidth(20)\n",
    "ax.grid(True)\n",
    "line1, = ax.plot(lgb_train[:],label='lgb_forecast')\n",
    "\n",
    "line2, =ax.plot(y_PIC_train[:],label='ground_truth')\n",
    "\n",
    "ax.set_xlabel(xlabel='Date', fontsize=15)\n",
    "ax.set_ylabel(ylabel='price actual', fontsize=14)\n",
    "plt.legend()\n",
    "#plt.savefig(\"examples.jpg\")\n",
    "plt.show()"
   ]
  }
 ],
 "metadata": {
  "kernelspec": {
   "display_name": "MDandNLP",
   "language": "python",
   "name": "mdandnlp"
  },
  "language_info": {
   "codemirror_mode": {
    "name": "ipython",
    "version": 3
   },
   "file_extension": ".py",
   "mimetype": "text/x-python",
   "name": "python",
   "nbconvert_exporter": "python",
   "pygments_lexer": "ipython3",
   "version": "3.8.0"
  }
 },
 "nbformat": 4,
 "nbformat_minor": 5
}
